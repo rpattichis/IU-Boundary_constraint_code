{
  "nbformat": 4,
  "nbformat_minor": 0,
  "metadata": {
    "colab": {
      "provenance": []
    },
    "kernelspec": {
      "name": "python3",
      "display_name": "Python 3"
    },
    "language_info": {
      "name": "python"
    }
  },
  "cells": [
    {
      "cell_type": "markdown",
      "source": [
        "# EMNLP IU-Boundary Code\n",
        "This notebook is defines a class to produce the raw counts, metrics, and language distribution graphs for a given transcript. Refer to the README file for our assumptions about the Excel format."
      ],
      "metadata": {
        "id": "T-0vnHaR90SI"
      }
    },
    {
      "cell_type": "code",
      "execution_count": 1,
      "metadata": {
        "colab": {
          "base_uri": "https://localhost:8080/"
        },
        "id": "3UsZ8cnX9X2M",
        "outputId": "e1719c53-822f-461b-8e4b-91507bde7182"
      },
      "outputs": [
        {
          "output_type": "stream",
          "name": "stdout",
          "text": [
            "Drive already mounted at /content/drive/; to attempt to forcibly remount, call drive.mount(\"/content/drive/\", force_remount=True).\n"
          ]
        }
      ],
      "source": [
        "# mount google drive\n",
        "from google.colab import drive\n",
        "import os\n",
        "\n",
        "drive.mount('/content/drive/')"
      ]
    },
    {
      "cell_type": "markdown",
      "source": [
        "### Class Definition"
      ],
      "metadata": {
        "id": "xfC0hLrn0GAK"
      }
    },
    {
      "cell_type": "code",
      "source": [
        "class IUBoundaryMetrics:\n",
        "  def __init__(self, data, n_languages=2, lang_tag_col_name=\"Clean Lang Tag\", speaker_col_name=\"Speaker Type\"):\n",
        "    self.df = data\n",
        "    self.langtag_col_name = lang_tag_col_name\n",
        "    self.speaker_col = speaker_col_name\n",
        "    self.n_languages = n_languages\n",
        "    self.IU_lang_visualizations = []\n",
        "    # dictionary for the Ls counted\n",
        "    self.raw_counts_L = {\n",
        "        \"total_valid_rows\": 0,    # rows counted after filtering for desired language tags\n",
        "        \"n_speaker_rows\"  : 0,    # IU rows that are speaker\n",
        "        \"n_interviewer_rows\": 0,  # IU rows that are interviewer\n",
        "        \"across-switch\"   : 0,    # how many times is there a boundary switch?\n",
        "        \"L_count\"         : [],   # how many IUs have Ls? (and how many?)\n",
        "        \"within-switch\"   : [],   # how many switches happen within the IU?\n",
        "        \"IU_lang_rows\"    : [],   # language tag measurements after filtering out non- S/E/L\n",
        "    }\n",
        "    # dictionary for no Ls counted\n",
        "    self.raw_counts_no_L = {\n",
        "        \"total_valid_rows\": 0,    # rows counted after filtering for desired language tags\n",
        "        \"n_speaker_rows\"  : 0,    # IU rows that are speaker\n",
        "        \"n_interviewer_rows\": 0,  # IU rows that are interviewer\n",
        "        \"across-switch\"   : 0,    # how many times is there a boundary switch?\n",
        "        \"L_count\"         : [],   # how many IUs have Ls? (and how many?)\n",
        "        \"within-switch\"   : [],   # how many switches happen within the IU?\n",
        "        \"IU_lang_rows\"    : [],   # language tag measurements after filtering out non- S/E/L\n",
        "    }\n",
        "    self.M_index, self.across_I_index, self.within_I_index = 0.0, 0.0, 0.0\n",
        "\n",
        "  def process_raw_info(self, include_L=False):\n",
        "    prev_letter = \"\"\n",
        "    raw_counts = {\n",
        "        \"total_valid_rows\": 0,    # rows counted after filtering for desired language tags\n",
        "        \"n_speaker_rows\"  : 0,    # IU rows that are speaker\n",
        "        \"n_interviewer_rows\": 0,  # IU rows that are interviewer\n",
        "        \"across-switch\"   : 0,    # how many times is there a boundary switch?\n",
        "        \"L_count\"         : [],   # how many IUs have Ls? (and how many?)\n",
        "        \"within-switch\"   : [],   # how many switches happen within the IU?\n",
        "        \"IU_lang_rows\"    : [],   # language tag measurements after filtering out non- S/E/L\n",
        "    }\n",
        "\n",
        "    # loop through every IU row in the transcript\n",
        "    for i in range(len(self.df[self.langtag_col_name])):\n",
        "\n",
        "      # we want to filter out anything that isn't L or S or E (depending on our 'include_L' flag)\n",
        "      curr_tag = df[self.langtag_col_name][i]\n",
        "      if include_L:\n",
        "        curr_tag = [x for x in curr_tag if x in [\"L\", \"S\", \"E\"]]\n",
        "      else:\n",
        "        curr_tag = [x for x in curr_tag if x in [\"S\", \"E\"]]\n",
        "      # the metrics in this if statement is meant for sanity checking and ensuring majority monological transcripts\n",
        "      if (len(curr_tag) > 0):\n",
        "        raw_counts[\"total_valid_rows\"] += 1\n",
        "        if (self.df[self.speaker_col][i] == \"Participant\"):     # TODO: change the name of the column if necessary\n",
        "          raw_counts[\"n_speaker_rows\"] += 1\n",
        "        elif (self.df[self.speaker_col][i] == \"Interviewer\"):   # TODO: change the name of the column if necessary\n",
        "          raw_counts[\"n_interviewer_rows\"] += 1\n",
        "\n",
        "      # count the Ls in the current IU row\n",
        "      if include_L:\n",
        "        L_count = curr_tag.count(\"L\")\n",
        "        raw_counts[\"L_count\"].append(L_count)\n",
        "\n",
        "      # process every tag in the IU\n",
        "      curr_within_switch = 0\n",
        "      for lang_idx, lang in enumerate(curr_tag):\n",
        "        if (lang_idx == 0):\n",
        "          # for the IU token level, remember that we only consider the first tag for each IU (for M-Index)\n",
        "          raw_counts[\"IU_lang_rows\"].append(lang)\n",
        "        # this will only happen once for each for loop / IU row;\n",
        "        # the last check makes sure we don't count the first row as an across IU switch\n",
        "        if (lang_idx == 0) and (lang != prev_letter) and (prev_letter != \"\"):  # looking for across IU switching\n",
        "          raw_counts[\"across-switch\"] += 1\n",
        "        elif (lang_idx > 0) and (lang != prev_letter): # looking for within IU switching\n",
        "          curr_within_switch += 1\n",
        "        prev_letter = lang\n",
        "      raw_counts[\"within-switch\"].append(curr_within_switch)\n",
        "\n",
        "    if include_L:\n",
        "      self.raw_counts_L = raw_counts\n",
        "    else:\n",
        "      self.raw_counts_no_L = raw_counts\n",
        "    return raw_counts\n",
        "\n",
        "  # This doesn't include counting the Ls\n",
        "  def m_index(self):\n",
        "    p = {\n",
        "        \"E\": 0,\n",
        "        \"S\":0\n",
        "    }\n",
        "\n",
        "    total_rows = 0\n",
        "    for curr_lang_tag in self.raw_counts_no_L[\"IU_lang_rows\"]:\n",
        "      if curr_lang_tag == \"E\":\n",
        "        p[\"E\"] += 1\n",
        "      elif curr_lang_tag == \"S\":\n",
        "        p[\"S\"] += 1\n",
        "      total_rows += 1\n",
        "\n",
        "    assert(p[\"S\"] + p[\"E\"] == total_rows) # sanity check\n",
        "\n",
        "    for curr_p, count in p.items():\n",
        "      p[curr_p] /= total_rows\n",
        "      p[curr_p] = p[curr_p] ** 2\n",
        "\n",
        "    p_sum = p[\"E\"] + p[\"S\"]\n",
        "    self.M_index = (1 - p_sum) / ((self.n_languages - 1) * p_sum)\n",
        "\n",
        "    return self.M_index\n",
        "\n",
        "  # this function assumes the dataframe has already been processed in the ways desired (L or no L)\n",
        "  def i_index_calculations(self, dataframe):\n",
        "    # across IU only\n",
        "    self.across_I_index = dataframe[\"across-switch\"] / (dataframe[\"total_valid_rows\"] - 1)\n",
        "\n",
        "    # within IU only\n",
        "    switch_count = len([x for x in dataframe[\"within-switch\"] if x > 0])\n",
        "    self.within_I_index = switch_count / (dataframe[\"total_valid_rows\"])\n",
        "\n",
        "    return self.across_I_index, self.within_I_index\n",
        "\n",
        "  def visualize_transcript(self):\n",
        "    lang_distributions = []\n",
        "    for lang_tag in self.raw_counts_no_L[\"IU_lang_rows\"]:\n",
        "      if lang_tag == \"E\":\n",
        "        lang_distributions.append(0)\n",
        "      elif lang_tag == \"S\":\n",
        "        lang_distributions.append(1)\n",
        "    lang_distributions = np.asarray(lang_distributions).reshape(1, len(list(lang_distributions)), order=\"F\")\n",
        "    fig, ax = plt.subplots()\n",
        "    ax.pcolormesh(lang_distributions)\n",
        "    ax.set_frame_on(False)\n",
        "    return"
      ],
      "metadata": {
        "id": "4IkHRVEdBO28"
      },
      "execution_count": 2,
      "outputs": []
    },
    {
      "cell_type": "markdown",
      "source": [
        "### Example w/ a Transcript"
      ],
      "metadata": {
        "id": "9KPJUdW-0JGX"
      }
    },
    {
      "cell_type": "code",
      "source": [
        "# load the excel data\n",
        "import pandas as pd\n",
        "import matplotlib.colors as mc # For the legend\n",
        "import matplotlib.pyplot as plt\n",
        "import numpy as np\n",
        "\n",
        "# TODO: change this path to your data path\n",
        "filepath = \"/content/drive/MyDrive/Code-Switching-Work/updated-data/FILL_THIS_IN.xlsx\"\n",
        "df = pd.read_excel(filepath)"
      ],
      "metadata": {
        "colab": {
          "base_uri": "https://localhost:8080/"
        },
        "id": "bnftwQK2Z8Jm",
        "outputId": "895d438d-ecaa-442b-d5cd-ca354eb97dcf"
      },
      "execution_count": 3,
      "outputs": [
        {
          "output_type": "stream",
          "name": "stderr",
          "text": [
            "/usr/local/lib/python3.10/dist-packages/openpyxl/worksheet/_reader.py:329: UserWarning: Unknown extension is not supported and will be removed\n",
            "  warn(msg)\n"
          ]
        }
      ]
    },
    {
      "cell_type": "code",
      "source": [
        "metrics = IUBoundaryMetrics(df)"
      ],
      "metadata": {
        "id": "NE8j2TLfaA21"
      },
      "execution_count": 4,
      "outputs": []
    },
    {
      "cell_type": "code",
      "source": [
        "no_L_raw_counts = metrics.process_raw_info(include_L = False)\n",
        "L_raw_counts    = metrics.process_raw_info(include_L = True)"
      ],
      "metadata": {
        "id": "eiMVUKjVaJ-F"
      },
      "execution_count": 5,
      "outputs": []
    },
    {
      "cell_type": "markdown",
      "source": [
        "#### Print the Raw Counts Information\n",
        "Related to information found in Table 1 of the paper."
      ],
      "metadata": {
        "id": "8F8GFWn5dR4F"
      }
    },
    {
      "cell_type": "code",
      "source": [
        "# NOTE: We are exclusively looking for IUs with single language tags so as to not double count\n",
        "print(\"Total eligible IUs: \" + str(metrics.raw_counts_L[\"total_valid_rows\"]))\n",
        "\n",
        "E_count = len([x for x in metrics.raw_counts_L[\"IU_lang_rows\"] if x == \"E\"])\n",
        "S_count = len([x for x in metrics.raw_counts_L[\"IU_lang_rows\"] if x == \"S\"])\n",
        "L_count = len([x for x in metrics.raw_counts_L[\"IU_lang_rows\"] if x == \"L\"])\n",
        "mult_count = len([x for x in metrics.raw_counts_L[\"IU_lang_rows\"] if len(x) > 1])\n",
        "print(\"Total IUs counted as Es in transcript: \" + str(E_count))\n",
        "print(\"Total IUs counted as Ss in transcript: \" + str(S_count))\n",
        "print(\"Total IUs counted as Ls in transcript: \" + str(L_count))\n",
        "print(\"Total IUs with multiple language tags: \" + str(mult_count))\n",
        "\n",
        "# sanity check\n",
        "assert(E_count + S_count + L_count + mult_count == metrics.raw_counts_L[\"total_valid_rows\"])\n",
        "\n",
        "print(\"Number of switches across IUs (no Ls): \" + str(metrics.raw_counts_no_L[\"across-switch\"]))\n",
        "print(\"Number of switches across IUs (Ls incl.): \" + str(metrics.raw_counts_L[\"across-switch\"]))\n",
        "\n",
        "print(\"Within IU switches (no Ls): \" + str(len([x for x in metrics.raw_counts_no_L[\"within-switch\"] if x > 0])))\n",
        "print(\"Within IU switches (Ls incl.): \" + str(len([x for x in metrics.raw_counts_L[\"within-switch\"] if x > 0])))\n",
        "\n",
        "print(\"Number of IUs that contain Ls: \" + str(len([x for x in metrics.raw_counts_L[\"L_count\"] if x > 0])))"
      ],
      "metadata": {
        "colab": {
          "base_uri": "https://localhost:8080/"
        },
        "id": "dXJRhulI4O7Z",
        "outputId": "b038def8-5f47-45ee-b9e7-84b8c5a4f262"
      },
      "execution_count": 6,
      "outputs": [
        {
          "output_type": "stream",
          "name": "stdout",
          "text": [
            "Total eligible IUs: 1641\n",
            "Total IUs counted as Es in transcript: 894\n",
            "Total IUs counted as Ss in transcript: 737\n",
            "Total IUs counted as Ls in transcript: 10\n",
            "Total IUs with multiple language tags: 0\n",
            "Number of switches across IUs (no Ls): 264\n",
            "Number of switches across IUs (Ls incl.): 276\n",
            "Within IU switches (no Ls): 21\n",
            "Within IU switches (Ls incl.): 49\n",
            "Number of IUs that contain Ls: 31\n"
          ]
        }
      ]
    },
    {
      "cell_type": "markdown",
      "source": [
        "#### Print the Code-Switching Metrics\n",
        "Related to Table 3 of the EMNLP paper."
      ],
      "metadata": {
        "id": "q8uWj9xq0SpP"
      }
    },
    {
      "cell_type": "code",
      "source": [
        "print(\"M-Index: \" + str(round(metrics.m_index(), 2)))"
      ],
      "metadata": {
        "colab": {
          "base_uri": "https://localhost:8080/"
        },
        "id": "VwqHVSqAbZ5f",
        "outputId": "f2b3de89-870c-4ff4-b4c0-cd7604c2f637"
      },
      "execution_count": 7,
      "outputs": [
        {
          "output_type": "stream",
          "name": "stdout",
          "text": [
            "M-Index: 0.98\n"
          ]
        }
      ]
    },
    {
      "cell_type": "code",
      "source": [
        "across_noL, within_noL = metrics.i_index_calculations(no_L_raw_counts)\n",
        "print(\"Across IU I-Index with no Ls: \" + str(round(across_noL, 2)))\n",
        "print(\"Within IU I-Index with no Ls: \" + str(round(within_noL, 2)))"
      ],
      "metadata": {
        "colab": {
          "base_uri": "https://localhost:8080/"
        },
        "id": "MHfxUgPWbfa-",
        "outputId": "cbdd538e-f3a9-48bd-a6e6-e1a8ae7572be"
      },
      "execution_count": 8,
      "outputs": [
        {
          "output_type": "stream",
          "name": "stdout",
          "text": [
            "Across IU I-Index with no Ls: 0.16\n",
            "Within IU I-Index with no Ls: 0.01\n"
          ]
        }
      ]
    },
    {
      "cell_type": "code",
      "source": [
        "across_L, within_L = metrics.i_index_calculations(L_raw_counts)\n",
        "print(\"Across IU I-Index with Ls: \" + str(round(across_L, 2)))\n",
        "print(\"Within IU I-Index with Ls: \" + str(round(within_L, 2)))"
      ],
      "metadata": {
        "colab": {
          "base_uri": "https://localhost:8080/"
        },
        "id": "oYw48rfOfy2f",
        "outputId": "f678532f-fb3c-4111-e05f-c9299ef6c3d9"
      },
      "execution_count": 9,
      "outputs": [
        {
          "output_type": "stream",
          "name": "stdout",
          "text": [
            "Across IU I-Index with Ls: 0.17\n",
            "Within IU I-Index with Ls: 0.03\n"
          ]
        }
      ]
    },
    {
      "cell_type": "markdown",
      "source": [
        "#### Print the Language Distribution Graph\n",
        "Related to Figure 4 in EMNLP paper."
      ],
      "metadata": {
        "id": "73C_NedW0U_6"
      }
    },
    {
      "cell_type": "code",
      "source": [
        "metrics.visualize_transcript()"
      ],
      "metadata": {
        "colab": {
          "base_uri": "https://localhost:8080/",
          "height": 435
        },
        "id": "FUZntvWYbb5V",
        "outputId": "0e7fbcb8-1541-49dc-dc61-6ccd78cba476"
      },
      "execution_count": 10,
      "outputs": [
        {
          "output_type": "display_data",
          "data": {
            "text/plain": [
              "<Figure size 640x480 with 1 Axes>"
            ],
            "image/png": "[encoded data removed]"
          },
          "metadata": {}
        }
      ]
    }
  ]
}